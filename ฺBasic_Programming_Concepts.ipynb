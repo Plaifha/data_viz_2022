{
  "nbformat": 4,
  "nbformat_minor": 0,
  "metadata": {
    "colab": {
      "name": "ฺBasic Programming Concepts.ipynb",
      "provenance": [],
      "authorship_tag": "ABX9TyNk+bDXsIYXZBqXEluLwPO6",
      "include_colab_link": true
    },
    "kernelspec": {
      "name": "python3",
      "display_name": "Python 3"
    },
    "language_info": {
      "name": "python"
    }
  },
  "cells": [
    {
      "cell_type": "markdown",
      "metadata": {
        "id": "view-in-github",
        "colab_type": "text"
      },
      "source": [
        "<a href=\"https://colab.research.google.com/github/Plaifha/data_viz_2022/blob/main/%E0%B8%BABasic_Programming_Concepts.ipynb\" target=\"_parent\"><img src=\"https://colab.research.google.com/assets/colab-badge.svg\" alt=\"Open In Colab\"/></a>"
      ]
    },
    {
      "cell_type": "markdown",
      "source": [
        "# Functions ($f(x)=y$)"
      ],
      "metadata": {
        "id": "aiuUYNEHDvcX"
      }
    },
    {
      "cell_type": "markdown",
      "source": [
        "```python\n",
        "def function (input_x):\n",
        "    # do something with input_x to get output_y\n",
        "    return output_y\n",
        "```"
      ],
      "metadata": {
        "id": "3hA0kWDvEMBM"
      }
    },
    {
      "cell_type": "markdown",
      "source": [
        "$f_1(x)=x^2 +75$"
      ],
      "metadata": {
        "id": "-qH6S2YwFyD4"
      }
    },
    {
      "cell_type": "code",
      "source": [
        "def function_f1(x): #input\n",
        "  a = x**2 # process เยื้องให้อัตโนมัติ เพราะเป็นส่วนหนึ่งของ function\n",
        "  y = a + 75 # output\n",
        "  return y\n",
        "\n",
        "print ('done!') #ไม่เยื้อง+ไม่อยู่ใน function"
      ],
      "metadata": {
        "colab": {
          "base_uri": "https://localhost:8080/"
        },
        "id": "SLVUL4_VELY3",
        "outputId": "49b1a6df-86ea-4101-e688-fa9c960d17dd"
      },
      "execution_count": 4,
      "outputs": [
        {
          "output_type": "stream",
          "name": "stdout",
          "text": [
            "done!\n"
          ]
        }
      ]
    },
    {
      "cell_type": "code",
      "source": [
        "function_f1(3)"
      ],
      "metadata": {
        "colab": {
          "base_uri": "https://localhost:8080/"
        },
        "id": "hJ31-pjTDuDG",
        "outputId": "d66a48ca-3717-499c-d99a-283b5ac3a4c3"
      },
      "execution_count": 5,
      "outputs": [
        {
          "output_type": "execute_result",
          "data": {
            "text/plain": [
              "84"
            ]
          },
          "metadata": {},
          "execution_count": 5
        }
      ]
    },
    {
      "cell_type": "markdown",
      "source": [
        "function มีส่วนสำคัญ 4 ส่วน\n",
        "1. บอก python ว่าเราจะเขียนฟังก์ชัน ชื่ออะไร `def function_name():`(ขาดไม่ได้)\n",
        "2. กำหนดตัวแปรที่จะเป็น input $input$ (ขาดได้)\n",
        "3. ส่วนประมวลผล do something with input to get output (ขาดไม่ได้)\n",
        "4. ส่วน output `return`  $input$ (ขาดได้)"
      ],
      "metadata": {
        "id": "UWtjK9eWHRW9"
      }
    },
    {
      "cell_type": "markdown",
      "source": [
        "### ตัวอย่าง function ที่ไม่มี input"
      ],
      "metadata": {
        "id": "fzDLxg7oIgb4"
      }
    },
    {
      "cell_type": "code",
      "execution_count": 6,
      "metadata": {
        "id": "5yyqMU0xDWVW"
      },
      "outputs": [],
      "source": [
        "def pi_v():\n",
        "  y = 3.14159265359\n",
        "  return y"
      ]
    },
    {
      "cell_type": "code",
      "source": [
        " piv = pi_v()\n",
        " circle_area_r2 = piv*(2**2)\n",
        " print(circle_area_r2)\n",
        " "
      ],
      "metadata": {
        "colab": {
          "base_uri": "https://localhost:8080/"
        },
        "id": "uQ-lR8KiJIA_",
        "outputId": "9c6ad705-cd86-4300-cee8-92939dd575d8"
      },
      "execution_count": 17,
      "outputs": [
        {
          "output_type": "stream",
          "name": "stdout",
          "text": [
            "12.56637061436\n"
          ]
        }
      ]
    },
    {
      "cell_type": "markdown",
      "source": [
        "### ตัวอย่าง function ที่ไม่มี output"
      ],
      "metadata": {
        "id": "WQMiOgazJCgK"
      }
    },
    {
      "cell_type": "code",
      "source": [
        "def print_name_id(name,id):\n",
        "  print(f'ชื่อ {name} รหัสประจำตัว {id}')"
      ],
      "metadata": {
        "id": "hYb5PgSLJhhI"
      },
      "execution_count": 11,
      "outputs": []
    },
    {
      "cell_type": "code",
      "source": [
        "print_name_id('ปลายฟ้า','623021005-1')"
      ],
      "metadata": {
        "colab": {
          "base_uri": "https://localhost:8080/"
        },
        "id": "V6tZ18WZJ3PF",
        "outputId": "9235013d-3e1c-47c1-de96-1f88f409d105"
      },
      "execution_count": 12,
      "outputs": [
        {
          "output_type": "stream",
          "name": "stdout",
          "text": [
            "ชื่อ ปลายฟ้า รหัสประจำตัว 623021005-1\n"
          ]
        }
      ]
    },
    {
      "cell_type": "code",
      "source": [
        "a = print_name_id('ปลายฟ้า','623021005-1')"
      ],
      "metadata": {
        "colab": {
          "base_uri": "https://localhost:8080/"
        },
        "id": "ZuQhGefrKgkz",
        "outputId": "32119348-2fd9-4fb5-a9d9-916dda30e49a"
      },
      "execution_count": 15,
      "outputs": [
        {
          "output_type": "stream",
          "name": "stdout",
          "text": [
            "ชื่อ ปลายฟ้า รหัสประจำตัว 623021005-1\n"
          ]
        }
      ]
    },
    {
      "cell_type": "code",
      "source": [
        "a"
      ],
      "metadata": {
        "id": "6Wrk4eTRKnHy"
      },
      "execution_count": 16,
      "outputs": []
    },
    {
      "cell_type": "markdown",
      "source": [
        "Looping(for)"
      ],
      "metadata": {
        "id": "etZlIIfRD9Lo"
      }
    },
    {
      "cell_type": "markdown",
      "source": [
        "# Condition Statement (if)"
      ],
      "metadata": {
        "id": "uW8dfc3CEC3_"
      }
    }
  ]
}