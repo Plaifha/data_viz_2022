{
  "nbformat": 4,
  "nbformat_minor": 0,
  "metadata": {
    "colab": {
      "name": "ฺBasic Programming Concepts.ipynb",
      "provenance": [],
      "authorship_tag": "ABX9TyPQcx9VFfOXmzDArq6kgl6d",
      "include_colab_link": true
    },
    "kernelspec": {
      "name": "python3",
      "display_name": "Python 3"
    },
    "language_info": {
      "name": "python"
    }
  },
  "cells": [
    {
      "cell_type": "markdown",
      "metadata": {
        "id": "view-in-github",
        "colab_type": "text"
      },
      "source": [
        "<a href=\"https://colab.research.google.com/github/Plaifha/data_viz_2022/blob/main/%E0%B8%BABasic_Programming_Concepts.ipynb\" target=\"_parent\"><img src=\"https://colab.research.google.com/assets/colab-badge.svg\" alt=\"Open In Colab\"/></a>"
      ]
    },
    {
      "cell_type": "markdown",
      "source": [
        "# Functions ($f(x)=y$)"
      ],
      "metadata": {
        "id": "aiuUYNEHDvcX"
      }
    },
    {
      "cell_type": "markdown",
      "source": [
        "```python\n",
        "def function (input_x):\n",
        "    # do something with input_x to get output_y\n",
        "    return output_y\n",
        "```"
      ],
      "metadata": {
        "id": "3hA0kWDvEMBM"
      }
    },
    {
      "cell_type": "markdown",
      "source": [
        "$f_1(x)=x^2 +75$"
      ],
      "metadata": {
        "id": "-qH6S2YwFyD4"
      }
    },
    {
      "cell_type": "code",
      "source": [
        "def function_f1(x): #input\n",
        "  a = x**2 # process เยื้องให้อัตโนมัติ เพราะเป็นส่วนหนึ่งของ function\n",
        "  y = a + 75 # output\n",
        "  return y\n",
        "\n",
        "print ('done!') #ไม่เยื้อง+ไม่อยู่ใน function"
      ],
      "metadata": {
        "colab": {
          "base_uri": "https://localhost:8080/"
        },
        "id": "SLVUL4_VELY3",
        "outputId": "49b1a6df-86ea-4101-e688-fa9c960d17dd"
      },
      "execution_count": null,
      "outputs": [
        {
          "output_type": "stream",
          "name": "stdout",
          "text": [
            "done!\n"
          ]
        }
      ]
    },
    {
      "cell_type": "code",
      "source": [
        "function_f1(3)"
      ],
      "metadata": {
        "colab": {
          "base_uri": "https://localhost:8080/"
        },
        "id": "hJ31-pjTDuDG",
        "outputId": "d66a48ca-3717-499c-d99a-283b5ac3a4c3"
      },
      "execution_count": null,
      "outputs": [
        {
          "output_type": "execute_result",
          "data": {
            "text/plain": [
              "84"
            ]
          },
          "metadata": {},
          "execution_count": 5
        }
      ]
    },
    {
      "cell_type": "markdown",
      "source": [
        "function มีส่วนสำคัญ 4 ส่วน\n",
        "1. บอก python ว่าเราจะเขียนฟังก์ชัน ชื่ออะไร `def function_name():`(ขาดไม่ได้)\n",
        "2. กำหนดตัวแปรที่จะเป็น input $input$ (ขาดได้)\n",
        "3. ส่วนประมวลผล do something with input to get output (ขาดไม่ได้)\n",
        "4. ส่วน output `return`  $input$ (ขาดได้)"
      ],
      "metadata": {
        "id": "UWtjK9eWHRW9"
      }
    },
    {
      "cell_type": "markdown",
      "source": [
        "### ตัวอย่าง function ที่มีสส่วนประกอบครบ"
      ],
      "metadata": {
        "id": "pXQYej-oLOnF"
      }
    },
    {
      "cell_type": "code",
      "source": [
        "def function_f1(x): #input\n",
        "  a = x**2 # process เยื้องให้อัตโนมัติ เพราะเป็นส่วนหนึ่งของ function\n",
        "  y = a + 75 # output\n",
        "  return y"
      ],
      "metadata": {
        "id": "Ilzi9qmmLa4_"
      },
      "execution_count": 4,
      "outputs": []
    },
    {
      "cell_type": "markdown",
      "source": [
        "### ตัวอย่าง function ที่ไม่มี input"
      ],
      "metadata": {
        "id": "fzDLxg7oIgb4"
      }
    },
    {
      "cell_type": "code",
      "execution_count": null,
      "metadata": {
        "id": "5yyqMU0xDWVW"
      },
      "outputs": [],
      "source": [
        "def pi_v():\n",
        "  y = 3.14159265359\n",
        "  return y"
      ]
    },
    {
      "cell_type": "code",
      "source": [
        " piv = pi_v()\n",
        " circle_area_r2 = piv*(2**2)\n",
        " print(circle_area_r2)\n",
        " "
      ],
      "metadata": {
        "colab": {
          "base_uri": "https://localhost:8080/"
        },
        "id": "uQ-lR8KiJIA_",
        "outputId": "9c6ad705-cd86-4300-cee8-92939dd575d8"
      },
      "execution_count": null,
      "outputs": [
        {
          "output_type": "stream",
          "name": "stdout",
          "text": [
            "12.56637061436\n"
          ]
        }
      ]
    },
    {
      "cell_type": "markdown",
      "source": [
        "### function ที่ไม่มี process ไม่ได้"
      ],
      "metadata": {
        "id": "NXVoXNzTLix-"
      }
    },
    {
      "cell_type": "code",
      "source": [
        "def function_():"
      ],
      "metadata": {
        "colab": {
          "base_uri": "https://localhost:8080/",
          "height": 130
        },
        "id": "62Ii5I8TLwAu",
        "outputId": "c3230a94-ad3f-4a26-ef4c-5d8402420938"
      },
      "execution_count": null,
      "outputs": [
        {
          "output_type": "error",
          "ename": "SyntaxError",
          "evalue": "ignored",
          "traceback": [
            "\u001b[0;36m  File \u001b[0;32m\"<ipython-input-19-65d3991392ac>\"\u001b[0;36m, line \u001b[0;32m1\u001b[0m\n\u001b[0;31m    def function_():\u001b[0m\n\u001b[0m                    ^\u001b[0m\n\u001b[0;31mSyntaxError\u001b[0m\u001b[0;31m:\u001b[0m unexpected EOF while parsing\n"
          ]
        }
      ]
    },
    {
      "cell_type": "markdown",
      "source": [
        "### ตัวอย่าง function ที่ไม่มี output"
      ],
      "metadata": {
        "id": "WQMiOgazJCgK"
      }
    },
    {
      "cell_type": "code",
      "source": [
        "def print_name_id(name,id):\n",
        "  print(f'ชื่อ {name} รหัสประจำตัว {id}')"
      ],
      "metadata": {
        "id": "hYb5PgSLJhhI"
      },
      "execution_count": null,
      "outputs": []
    },
    {
      "cell_type": "code",
      "source": [
        "print_name_id('ปลายฟ้า','623021005-1')"
      ],
      "metadata": {
        "colab": {
          "base_uri": "https://localhost:8080/"
        },
        "id": "V6tZ18WZJ3PF",
        "outputId": "9235013d-3e1c-47c1-de96-1f88f409d105"
      },
      "execution_count": null,
      "outputs": [
        {
          "output_type": "stream",
          "name": "stdout",
          "text": [
            "ชื่อ ปลายฟ้า รหัสประจำตัว 623021005-1\n"
          ]
        }
      ]
    },
    {
      "cell_type": "code",
      "source": [
        "a = print_name_id('ปลายฟ้า','623021005-1')"
      ],
      "metadata": {
        "colab": {
          "base_uri": "https://localhost:8080/"
        },
        "id": "ZuQhGefrKgkz",
        "outputId": "32119348-2fd9-4fb5-a9d9-916dda30e49a"
      },
      "execution_count": null,
      "outputs": [
        {
          "output_type": "stream",
          "name": "stdout",
          "text": [
            "ชื่อ ปลายฟ้า รหัสประจำตัว 623021005-1\n"
          ]
        }
      ]
    },
    {
      "cell_type": "code",
      "source": [
        "a"
      ],
      "metadata": {
        "id": "6Wrk4eTRKnHy"
      },
      "execution_count": null,
      "outputs": []
    },
    {
      "cell_type": "markdown",
      "source": [
        "ตัวอย่าง funtion print https://www.programiz.com/python-programming/methods/built-in/print"
      ],
      "metadata": {
        "id": "e0U3nAfWOwwj"
      }
    },
    {
      "cell_type": "code",
      "source": [
        "print ('ปลายฟ้า',end=' -> ') #ต้องการให้จบด้วยอะไร ก็แค่ใส่ end ก่อน\n",
        "print ('623021005-1')"
      ],
      "metadata": {
        "colab": {
          "base_uri": "https://localhost:8080/"
        },
        "id": "ZpIVj88lO7Sl",
        "outputId": "d8443651-3a45-499c-abe9-5aae49093b41"
      },
      "execution_count": null,
      "outputs": [
        {
          "output_type": "stream",
          "name": "stdout",
          "text": [
            "ปลายฟ้า -> 623021005-1\n"
          ]
        }
      ]
    },
    {
      "cell_type": "code",
      "source": [
        "print('ปลายฟ้า','623021005-1') #หากมีหลายค่าให้ print ก็จะแบ่งด้วยเว้นวรรค "
      ],
      "metadata": {
        "colab": {
          "base_uri": "https://localhost:8080/"
        },
        "id": "C86TrWS5PJXH",
        "outputId": "6b053166-e4b6-4f61-c879-d1aaf1454f42"
      },
      "execution_count": null,
      "outputs": [
        {
          "output_type": "stream",
          "name": "stdout",
          "text": [
            "ปลายฟ้า 623021005-1\n"
          ]
        }
      ]
    },
    {
      "cell_type": "code",
      "source": [
        "print('ปลายฟ้า','623021005-1',sep=' & ')"
      ],
      "metadata": {
        "colab": {
          "base_uri": "https://localhost:8080/"
        },
        "id": "uvJN9BDFPj8s",
        "outputId": "588a3eed-37f0-4ed0-ae0c-f188b9d6b4a4"
      },
      "execution_count": null,
      "outputs": [
        {
          "output_type": "stream",
          "name": "stdout",
          "text": [
            "ปลายฟ้า & 623021005-1\n"
          ]
        }
      ]
    },
    {
      "cell_type": "markdown",
      "source": [
        "## input ของ function แบ่งเป็น 2 ชนิด (จำเป็นต้องใส่ กับ ไม่จำเป็นต้องใส่)"
      ],
      "metadata": {
        "id": "WsnR5BqlQG1L"
      }
    },
    {
      "cell_type": "markdown",
      "source": [
        "ตัวอย่าง function `print_grade()`  มี input 3 ตัว จำเป็นต้องใส่ 2 ตัว คือ name กับ id และ ไม่จำเป็นต้องใส่ 1 ตัว คือเกรด ซึ่งมีค่า default เป็น F"
      ],
      "metadata": {
        "id": "CWWbH7VPRC3P"
      }
    },
    {
      "cell_type": "code",
      "source": [
        "def print_grade(name,id,grade = 'F'): #ค่า'default' คือค่าเบื้องต้น ,มี input 3 ตัว คือ name,id,grade\n",
        "    print(f'รหัสประจำตัว {id} ชื่อ {name}')\n",
        "    print(f'ได้เกรด {grade}')"
      ],
      "metadata": {
        "id": "uOWOGMcMQVOJ"
      },
      "execution_count": 2,
      "outputs": []
    },
    {
      "cell_type": "code",
      "source": [
        "print_grade('ปลายฟ้า คำเพ็ง','623021005-1') #ตัวที่ 3 ไม่จำเป็นต้องใส่ เดี๋ยวมันใส่ค่า defaulf ให้เอง"
      ],
      "metadata": {
        "colab": {
          "base_uri": "https://localhost:8080/"
        },
        "id": "q5ivbDCbR4Zl",
        "outputId": "2b9ba47e-724c-4049-956e-e6331f2cc51f"
      },
      "execution_count": 3,
      "outputs": [
        {
          "output_type": "stream",
          "name": "stdout",
          "text": [
            "รหัสประจำตัว 623021005-1 ชื่อ ปลายฟ้า คำเพ็ง\n",
            "ได้เกรด F\n"
          ]
        }
      ]
    },
    {
      "cell_type": "code",
      "source": [
        "print_grade('ปลายฟ้า คำเพ็ง','623021005-1','A') #ใส่ค่าตามลำดับของ input"
      ],
      "metadata": {
        "colab": {
          "base_uri": "https://localhost:8080/"
        },
        "id": "16HArpWEo-E_",
        "outputId": "c0357779-f1ec-415b-b79d-0b910c714307"
      },
      "execution_count": null,
      "outputs": [
        {
          "output_type": "stream",
          "name": "stdout",
          "text": [
            "รหัสประจำตัว 623021005-1 ชื่อ ปลายฟ้า คำเพ็ง\n",
            "ได้เกรด A\n"
          ]
        }
      ]
    },
    {
      "cell_type": "code",
      "source": [
        "print_grade(name='ปลายฟ้า คำเพ็ง',id='623021005-1',grade='A') #ใส่ชื่อ input เพื่อบอกค่าเลยก็ได้"
      ],
      "metadata": {
        "colab": {
          "base_uri": "https://localhost:8080/"
        },
        "id": "kNx6qPEAppFT",
        "outputId": "99727baa-a4b1-403a-830a-b4bd5c204a2d"
      },
      "execution_count": null,
      "outputs": [
        {
          "output_type": "stream",
          "name": "stdout",
          "text": [
            "รหัสประจำตัว 623021005-1 ชื่อ ปลายฟ้า คำเพ็ง\n",
            "ได้เกรด A\n"
          ]
        }
      ]
    },
    {
      "cell_type": "markdown",
      "source": [
        "# Looping(for)"
      ],
      "metadata": {
        "id": "etZlIIfRD9Lo"
      }
    },
    {
      "cell_type": "markdown",
      "source": [
        "```python\n",
        "for member in listEx:\n",
        "    do_something()\n",
        "```"
      ],
      "metadata": {
        "id": "sc-srvVyT0VP"
      }
    },
    {
      "cell_type": "code",
      "source": [
        "for member in [1,2,3,4,5,6]:\n",
        "    print(member)"
      ],
      "metadata": {
        "colab": {
          "base_uri": "https://localhost:8080/"
        },
        "id": "RBqOKX9PUV5_",
        "outputId": "97856f47-1bf9-4423-f847-5695cfd62d6e"
      },
      "execution_count": 1,
      "outputs": [
        {
          "output_type": "stream",
          "name": "stdout",
          "text": [
            "1\n",
            "2\n",
            "3\n",
            "4\n",
            "5\n",
            "6\n"
          ]
        }
      ]
    },
    {
      "cell_type": "code",
      "source": [
        "def print_name(name):\n",
        "    print(f'ฉันชื่อ {name}')"
      ],
      "metadata": {
        "id": "djORtiuVUgYv"
      },
      "execution_count": 5,
      "outputs": []
    },
    {
      "cell_type": "code",
      "source": [
        "for name in ['ปริม','แบม','เฟิน','เมย์','ฝน']:\n",
        "    N=name\n",
        "    print_name(N)\n"
      ],
      "metadata": {
        "colab": {
          "base_uri": "https://localhost:8080/"
        },
        "id": "k7CWMaaAVJTD",
        "outputId": "7d4b726e-bd97-4155-b050-8152f9a88b9f"
      },
      "execution_count": 6,
      "outputs": [
        {
          "output_type": "stream",
          "name": "stdout",
          "text": [
            "ฉันชื่อ ปริม\n",
            "ฉันชื่อ แบม\n",
            "ฉันชื่อ เฟิน\n",
            "ฉันชื่อ เมย์\n",
            "ฉันชื่อ ฝน\n"
          ]
        }
      ]
    },
    {
      "cell_type": "code",
      "source": [
        "list_name_id_grade = [['นางสาวจิรัชญา ฟองฟูม','613020038-0','B'],\n",
        "                      ['นายสุภทัต ขุนจันทร์','613020566-5','A'],\n",
        "                      ['นางสาวกัญญาวีร์ อุดม','613020610-8','C']]"
      ],
      "metadata": {
        "id": "XvplEeF4WSsS"
      },
      "execution_count": 7,
      "outputs": []
    },
    {
      "cell_type": "code",
      "source": [
        "for each in list_name_id_grade:\n",
        "    name = each[0]\n",
        "    id = each[1]\n",
        "    grade = each[2]\n",
        "    print_grade(name,id,grade)\n",
        "    print('----------------')"
      ],
      "metadata": {
        "colab": {
          "base_uri": "https://localhost:8080/"
        },
        "id": "Pxsev39kX5Yz",
        "outputId": "4a681c61-0eb3-466d-aefa-8bbb1bb7c1a7"
      },
      "execution_count": 9,
      "outputs": [
        {
          "output_type": "stream",
          "name": "stdout",
          "text": [
            "รหัสประจำตัว 613020038-0 ชื่อ นางสาวจิรัชญา ฟองฟูม\n",
            "ได้เกรด B\n",
            "----------------\n",
            "รหัสประจำตัว 613020566-5 ชื่อ นายสุภทัต ขุนจันทร์\n",
            "ได้เกรด A\n",
            "----------------\n",
            "รหัสประจำตัว 613020610-8 ชื่อ นางสาวกัญญาวีร์ อุดม\n",
            "ได้เกรด C\n",
            "----------------\n"
          ]
        }
      ]
    },
    {
      "cell_type": "markdown",
      "source": [
        "###ใช้ for loop เพื่อเพิ่มสมาชิกใน list"
      ],
      "metadata": {
        "id": "Sfg4DmeTYcnZ"
      }
    },
    {
      "cell_type": "code",
      "source": [
        "list_name =[]\n",
        "list_id =[]\n",
        "list_grade = []\n",
        "for each in list_name_id_grade:\n",
        "    list_name.append(each[0])\n",
        "    list_id.append(each[1])\n",
        "    list_grade.append(each[2])"
      ],
      "metadata": {
        "id": "TewPYozPYnK9"
      },
      "execution_count": 11,
      "outputs": []
    },
    {
      "cell_type": "code",
      "source": [
        "list_name"
      ],
      "metadata": {
        "colab": {
          "base_uri": "https://localhost:8080/"
        },
        "id": "2U4F6u9oZMkm",
        "outputId": "41c6446c-a5c6-43b7-8e34-5ba7200e542a"
      },
      "execution_count": 12,
      "outputs": [
        {
          "output_type": "execute_result",
          "data": {
            "text/plain": [
              "['นางสาวจิรัชญา ฟองฟูม', 'นายสุภทัต ขุนจันทร์', 'นางสาวกัญญาวีร์ อุดม']"
            ]
          },
          "metadata": {},
          "execution_count": 12
        }
      ]
    },
    {
      "cell_type": "markdown",
      "source": [
        "# Condition Statement (if)"
      ],
      "metadata": {
        "id": "uW8dfc3CEC3_"
      }
    }
  ]
}